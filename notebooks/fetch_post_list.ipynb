{
 "cells": [
  {
   "cell_type": "code",
   "execution_count": 32,
   "metadata": {},
   "outputs": [],
   "source": [
    "# import \n",
    "import glob\n",
    "import re\n",
    "import ast"
   ]
  },
  {
   "cell_type": "code",
   "execution_count": 71,
   "metadata": {},
   "outputs": [
    {
     "name": "stdout",
     "output_type": "stream",
     "text": [
      "../_posts\\2020-07-22-introduction-to-graph-neural-networks-with-deepwalk.markdown\n",
      "../_posts\\2020-06-23-ranking-algorithms.markdown\n",
      "../_posts\\2020-04-05-co-variance--an-intuitive-explanation.markdown\n",
      "../_posts\\2019-09-15-interactive-q-learning.markdown\n",
      "../_posts\\2019-08-04-introduction-to-processing-with-bezier-curves.markdown\n",
      "../_posts\\2019-05-12-the-invariant-principle---introduction-and-examples.markdown\n",
      "../_posts\\2019-04-16-introduction-to-multi-dimensional-dynamic-programming.markdown\n",
      "../_posts\\2019-02-14-introduction-to-acoustic-event-detection-technique.markdown\n",
      "../_posts\\2019-02-02-string-similarity---the-basic-know-your-algorithms-guide.markdown\n",
      "../_posts\\2018-12-01-introduction-to-genetic-algorithm.markdown\n",
      "../_posts\\2018-09-22-graphical-solution-to-system-of-equation-s.markdown\n",
      "../_posts\\2018-09-13-introduction-to-linear-programming-with-python.markdown\n",
      "../_posts\\2018-08-18-building-a-chatbot-with-rasa.markdown\n",
      "../_posts\\2018-05-20-understanding-the-forecasting-algorithm--stlf-model.markdown\n",
      "../_posts\\2018-05-06-reinforcement-learning-with-multi-arm-bandit--part-2.markdown\n",
      "../_posts\\2018-04-01-reinforcement-learning-with-multi-arm-bandit.markdown\n",
      "../_posts\\2018-03-23-intro-to-bitcoin---the-economics-and-technology-behind-it.markdown\n",
      "../_posts\\2018-03-10-how-i-beat-the-online-game-1to50-with-neural-network.markdown\n",
      "../_posts\\2018-03-02-reinforcement-learning-with-q-tables.markdown\n"
     ]
    }
   ],
   "source": [
    "markdown_string = \"\"\n",
    "for file in glob.glob(\"../_posts/*\")[::-1]:\n",
    "    with open(file, 'r', encoding='utf8') as f:\n",
    "        # extract\n",
    "        print(file)\n",
    "        post = f.read()\n",
    "        title = re.findall(\"(?<=title:).*\", post)[0].strip()\n",
    "        tags = (re.findall(\"(?<=tag:).*\", post)[0])\n",
    "        link = \"https://mohitmayank.com/blog/\" + file[21:].replace(\".markdown\", \"\")\n",
    "        description = (re.findall(\"(?<=description: ).*\", post)[0])\n",
    "        # append to string\n",
    "        format_title = f\"**[{title}]({link})**\"\n",
    "        markdown_string += f\"- {format_title}\\n  - **Tags:** {tags}\\n  - **Description:** {description}\\n\"\n"
   ]
  },
  {
   "cell_type": "code",
   "execution_count": 72,
   "metadata": {},
   "outputs": [
    {
     "name": "stdout",
     "output_type": "stream",
     "text": [
      "- **[\"Introduction to Graph Neural Networks with DeepWalk\"](https://mohitmayank.com/blog/introduction-to-graph-neural-networks-with-deepwalk)**\n",
      "  - **Tags:**  [graph, machine-learning, data-science, python]\n",
      "  - **Description:** Let's build the intuition on why and what of Graph Neural Networks (GNN) by discussing one of the groundbreaking works in the domain — DeepWalk. We will connect this with word2vec and conclude by experimenting with existing implementation on a graph.\n",
      "- **[\"Ranking algorithms — know your multi-criteria decision solving techniques!\"](https://mohitmayank.com/blog/ranking-algorithms)**\n",
      "  - **Tags:**  [optimization, machine-learning, data-science, python]\n",
      "  - **Description:** Let’s go through some of the basic algorithms to solve complex decision-making problems influenced by multiple criteria. We will discuss why we need such techniques and explore available algorithms in the cool skcriteria python package\n",
      "- **[\"Co-variance: An intuitive explanation!\"](https://mohitmayank.com/blog/co-variance--an-intuitive-explanation)**\n",
      "  - **Tags:**  [math, machine-learning, data-science, python]\n",
      "  - **Description:** A comprehensive but simple guide which focus more on the idea behind the formula rather than the math itself — start building the block with expectation, mean, variance to finally understand the large picture i.e. co-variance\n",
      "- **[\"Interactive Q learning\"](https://mohitmayank.com/blog/interactive-q-learning)**\n",
      "  - **Tags:**  [interaction, doc, reinforcement-learning, p5]\n",
      "  - **Description:** The best way to learn about Q tables…\n",
      "- **[\"Introduction to Processing with Bezier curves\"](https://mohitmayank.com/blog/introduction-to-processing-with-bezier-curves)**\n",
      "  - **Tags:**  [graphics, math, p5]\n",
      "  - **Description:** A intuitive hands-on session on a visual arts sketchbook software by drawing the curves that puts life into animations!\n",
      "- **[\"The Invariant principle — Introduction and examples\"](https://mohitmayank.com/blog/the-invariant-principle---introduction-and-examples)**\n",
      "  - **Tags:**  [math]\n",
      "  - **Description:** Understand the famous mathematical property which acted as bane for several complex real life problems and still kicks a punch here and there.\n",
      "- **[\"Introduction to Multi-dimensional Dynamic Programming\"](https://mohitmayank.com/blog/introduction-to-multi-dimensional-dynamic-programming)**\n",
      "  - **Tags:**  [programming, math, python]\n",
      "  - **Description:** Understand the intuition behind the technique which solves miniature dependent problems to finally explain the problem in question.\n",
      "- **[\"Introduction to Acoustic event detection technique\"](https://mohitmayank.com/blog/introduction-to-acoustic-event-detection-technique)**\n",
      "  - **Tags:**  [acoustics, data-analysis, python]\n",
      "  - **Description:** Accurately identifying the occurrence of acoustic signatures, like birds chipping, human speaking, etc., from large audio files.\n",
      "- **[\"String similarity — the basic know your algorithms guide!\"](https://mohitmayank.com/blog/string-similarity---the-basic-know-your-algorithms-guide)**\n",
      "  - **Tags:**  [data-science, python]\n",
      "  - **Description:** A basic introduction to most famous and widely used, and still least understood algorithms for string similarity.\n",
      "- **[\"Introduction to Genetic Algorithm\"](https://mohitmayank.com/blog/introduction-to-genetic-algorithm)**\n",
      "  - **Tags:**  [programming, math, python]\n",
      "  - **Description:** Getting one step closer to the evolutionary biological process, to infer how the natural phenomenon can be employed to solve complex computer science problems\n",
      "- **[\"Graphical solution to system of equation(s)\"](https://mohitmayank.com/blog/graphical-solution-to-system-of-equation-s)**\n",
      "  - **Tags:**  [math]\n",
      "  - **Description:** A little in-depth intuition behind solving any system of equations by plotting and finding the solution space.\n",
      "- **[\"Introduction to Linear programming with Python\"](https://mohitmayank.com/blog/introduction-to-linear-programming-with-python)**\n",
      "  - **Tags:**  [programming, math, python]\n",
      "  - **Description:** From a brief overview to full implementation on a use case, lets try to understand the need, means and deeds of the classical approach.\n",
      "- **[\"Building a chatbot with Rasa\"](https://mohitmayank.com/blog/building-a-chatbot-with-rasa)**\n",
      "  - **Tags:**  [chatbot, ai, python]\n",
      "  - **Description:** Get your hands dirty by creating a fully functional AI Chatbot\n",
      "- **[\"Understanding the forecasting algorithm: STLF Model\"](https://mohitmayank.com/blog/understanding-the-forecasting-algorithm--stlf-model)**\n",
      "  - **Tags:**  [forecasting, math]\n",
      "  - **Description:** Predicting the future based on historical information\n",
      "- **[\"Reinforcement Learning with Multi Arm Bandit (Part 2)\"](https://mohitmayank.com/blog/reinforcement-learning-with-multi-arm-bandit--part-2)**\n",
      "  - **Tags:**  [reinforcement-learning, math, python]\n",
      "  - **Description:** Let make the problem a little bit more….complex!\n",
      "- **[\"Reinforcement Learning with Multi Arm Bandit\"](https://mohitmayank.com/blog/reinforcement-learning-with-multi-arm-bandit)**\n",
      "  - **Tags:**  [reinforcement-learning, math, python]\n",
      "  - **Description:** Lets talk about the classical reinforcement learning problem which paved the way for delayed reward learning with balance between exploration and exploitation.\n",
      "- **[\"Intro to Bitcoin — the economics and technology behind it\"](https://mohitmayank.com/blog/intro-to-bitcoin---the-economics-and-technology-behind-it)**\n",
      "  - **Tags:**  [bitcoin, economy]\n",
      "  - **Description:** A brief history lesson of money and the basics of bitcoin.\n",
      "- **[\"How I beat the online game 1to50 with neural network\"](https://mohitmayank.com/blog/how-i-beat-the-online-game-1to50-with-neural-network)**\n",
      "  - **Tags:**  [computer-vision, python]\n",
      "  - **Description:** Let's fool the machine\n",
      "- **[\"Reinforcement Learning with Q tables\"](https://mohitmayank.com/blog/reinforcement-learning-with-q-tables)**\n",
      "  - **Tags:**  [reinforcement-learning, math, python]\n",
      "  - **Description:** Introduction to Q learning which is used by AI Agents to predict best next move.\n",
      "\n"
     ]
    }
   ],
   "source": [
    "print(markdown_string)"
   ]
  },
  {
   "cell_type": "code",
   "execution_count": null,
   "metadata": {},
   "outputs": [],
   "source": []
  }
 ],
 "metadata": {
  "kernelspec": {
   "display_name": "Python 3",
   "language": "python",
   "name": "python3"
  },
  "language_info": {
   "codemirror_mode": {
    "name": "ipython",
    "version": 3
   },
   "file_extension": ".py",
   "mimetype": "text/x-python",
   "name": "python",
   "nbconvert_exporter": "python",
   "pygments_lexer": "ipython3",
   "version": "3.7.3"
  }
 },
 "nbformat": 4,
 "nbformat_minor": 2
}
